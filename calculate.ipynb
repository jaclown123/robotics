{
 "cells": [
  {
   "cell_type": "code",
   "id": "initial_id",
   "metadata": {
    "collapsed": true,
    "ExecuteTime": {
     "end_time": "2024-11-02T09:14:07.706824Z",
     "start_time": "2024-11-02T09:14:07.083097Z"
    }
   },
   "source": [
    "import sympy as sp\n",
    "\n",
    "# 定义符号变量\n",
    "theta1, theta2, theta3, theta4 = sp.symbols('theta1 theta2 theta3 theta4')\n",
    "d1, d2, d3, d4, d5 = sp.symbols('d1 d2 d3 d4 d5')\n",
    "a1, a2, a3 = sp.symbols('a1 a2 a3')\n",
    "alpha1, alpha2, alpha3, alpha4 = sp.symbols('alpha1 alpha2 alpha3 alpha4')\n",
    "\n",
    "# 齐次变换矩阵的通用形式\n",
    "def DH_matrix(alpha, a, d, theta):\n",
    "    return sp.Matrix([\n",
    "        [sp.cos(theta), -sp.sin(theta), 0, a],\n",
    "        [sp.sin(theta)*sp.cos(alpha), sp.cos(theta)*sp.cos(alpha), -sp.sin(alpha), -d*sp.sin(alpha)],\n",
    "        [sp.sin(theta)*sp.sin(alpha), sp.sin(alpha)*sp.cos(theta), sp.cos(alpha), d*sp.cos(alpha)],\n",
    "        [0, 0, 0, 1]\n",
    "    ])\n",
    "\n",
    "# 根据DH参数定义各个关节的齐次变换矩阵\n",
    "T01 = DH_matrix(0,0,0,theta1)\n",
    "T12 = DH_matrix(0,a1,0,theta2)\n",
    "T23 = DH_matrix(0,a2,d3,0)\n",
    "T34 = DH_matrix(0,0,d4,theta4)\n",
    "T45 = DH_matrix(0,0,d5,0)\n",
    "# 最终齐次变换矩阵 = T01 * T12 * T23 * T34\n",
    "T_final = T01 * T12 * T23 * T34# * T45\n",
    "T_final_simplified = sp.simplify(T_final)\n",
    "from sympy import init_printing\n",
    "init_printing()  # 初始化 SymPy 的 LaTeX 渲染\n",
    "\n",
    "# 显示齐次变换矩阵的 LaTeX 渲染\n",
    "display(T_final_simplified)"
   ],
   "outputs": [
    {
     "data": {
      "text/plain": [
       "⎡cos(θ₁ + θ₂ + θ₄)  -sin(θ₁ + θ₂ + θ₄)  0  a₁⋅cos(θ₁) + a₂⋅cos(θ₁ + θ₂)⎤\n",
       "⎢                                                                      ⎥\n",
       "⎢sin(θ₁ + θ₂ + θ₄)  cos(θ₁ + θ₂ + θ₄)   0  a₁⋅sin(θ₁) + a₂⋅sin(θ₁ + θ₂)⎥\n",
       "⎢                                                                      ⎥\n",
       "⎢        0                  0           1            d₃ + d₄           ⎥\n",
       "⎢                                                                      ⎥\n",
       "⎣        0                  0           0               1              ⎦"
      ],
      "text/latex": "$\\displaystyle \\left[\\begin{matrix}\\cos{\\left(\\theta_{1} + \\theta_{2} + \\theta_{4} \\right)} & - \\sin{\\left(\\theta_{1} + \\theta_{2} + \\theta_{4} \\right)} & 0 & a_{1} \\cos{\\left(\\theta_{1} \\right)} + a_{2} \\cos{\\left(\\theta_{1} + \\theta_{2} \\right)}\\\\\\sin{\\left(\\theta_{1} + \\theta_{2} + \\theta_{4} \\right)} & \\cos{\\left(\\theta_{1} + \\theta_{2} + \\theta_{4} \\right)} & 0 & a_{1} \\sin{\\left(\\theta_{1} \\right)} + a_{2} \\sin{\\left(\\theta_{1} + \\theta_{2} \\right)}\\\\0 & 0 & 1 & d_{3} + d_{4}\\\\0 & 0 & 0 & 1\\end{matrix}\\right]$"
     },
     "metadata": {},
     "output_type": "display_data"
    }
   ],
   "execution_count": 4
  },
  {
   "metadata": {
    "ExecuteTime": {
     "end_time": "2024-10-23T15:06:01.999073Z",
     "start_time": "2024-10-23T15:06:01.812568Z"
    }
   },
   "cell_type": "code",
   "source": [
    "T01 = DH_matrix(0,0,0,theta1)\n",
    "T12 = DH_matrix(sp.pi/2,a1,d2,0)\n",
    "T23 = DH_matrix(-sp.pi/2,0,0,theta3)\n",
    "T_final = T01 * T12 * T23 \n",
    "T_final_simplified = sp.simplify(T_final)\n",
    "#init_printing()  # 初始化 SymPy 的 LaTeX 渲染\n",
    "\n",
    "# 显示齐次变换矩阵的 LaTeX 渲染\n",
    "display(T_final_simplified)\n",
    "T01 = DH_matrix(0, 0, 0, theta1)\n",
    "T12 = DH_matrix(sp.pi / 2, a1, d2, 0)\n",
    "T23 = DH_matrix(-sp.pi / 2, 0, 0, theta3)\n"
   ],
   "id": "8e5cffcc71194c43",
   "outputs": [
    {
     "data": {
      "text/plain": [
       "⎡cos(θ₁ + θ₃)  -sin(θ₁ + θ₃)  0  a₁⋅cos(θ₁) + d₂⋅sin(θ₁)⎤\n",
       "⎢                                                       ⎥\n",
       "⎢sin(θ₁ + θ₃)  cos(θ₁ + θ₃)   0  a₁⋅sin(θ₁) - d₂⋅cos(θ₁)⎥\n",
       "⎢                                                       ⎥\n",
       "⎢     0              0        1             0           ⎥\n",
       "⎢                                                       ⎥\n",
       "⎣     0              0        0             1           ⎦"
      ],
      "text/latex": "$\\displaystyle \\left[\\begin{matrix}\\cos{\\left(\\theta_{1} + \\theta_{3} \\right)} & - \\sin{\\left(\\theta_{1} + \\theta_{3} \\right)} & 0 & a_{1} \\cos{\\left(\\theta_{1} \\right)} + d_{2} \\sin{\\left(\\theta_{1} \\right)}\\\\\\sin{\\left(\\theta_{1} + \\theta_{3} \\right)} & \\cos{\\left(\\theta_{1} + \\theta_{3} \\right)} & 0 & a_{1} \\sin{\\left(\\theta_{1} \\right)} - d_{2} \\cos{\\left(\\theta_{1} \\right)}\\\\0 & 0 & 1 & 0\\\\0 & 0 & 0 & 1\\end{matrix}\\right]$"
     },
     "metadata": {},
     "output_type": "display_data"
    }
   ],
   "execution_count": 12
  },
  {
   "metadata": {
    "ExecuteTime": {
     "end_time": "2024-11-02T09:17:02.495738Z",
     "start_time": "2024-11-02T09:17:02.414575Z"
    }
   },
   "cell_type": "code",
   "source": [
    "T01 = DH_matrix(0,0,0,theta1)\n",
    "T12 = DH_matrix(0,0,d2,sp.pi/2)\n",
    "T23 = DH_matrix(-sp.pi/2,0,d3,0)\n",
    "T34 = DH_matrix(0,0,d4,0)\n",
    "T_final = T01 * T12 * T23 * T34\n",
    "T_final_simplified = sp.simplify(T_final)\n",
    "#init_printing()  # 初始化 SymPy 的 LaTeX 渲染\n",
    "\n",
    "# 显示齐次变换矩阵的 LaTeX 渲染\n",
    "display(T_final_simplified)\n",
    "# T01 = DH_matrix(0, 0, 0, theta1)\n",
    "# T12 = DH_matrix(sp.pi / 2, a1, d2, 0)\n",
    "# T23 = DH_matrix(-sp.pi / 2, 0, 0, theta3)\n"
   ],
   "id": "657a2436dfbf814c",
   "outputs": [
    {
     "data": {
      "text/plain": [
       "⎡-sin(θ₁)  0   -cos(θ₁)  (-d₃ - d₄)⋅cos(θ₁)⎤\n",
       "⎢                                          ⎥\n",
       "⎢cos(θ₁)   0   -sin(θ₁)  (-d₃ - d₄)⋅sin(θ₁)⎥\n",
       "⎢                                          ⎥\n",
       "⎢   0      -1     0              d₂        ⎥\n",
       "⎢                                          ⎥\n",
       "⎣   0      0      0              1         ⎦"
      ],
      "text/latex": "$\\displaystyle \\left[\\begin{matrix}- \\sin{\\left(\\theta_{1} \\right)} & 0 & - \\cos{\\left(\\theta_{1} \\right)} & \\left(- d_{3} - d_{4}\\right) \\cos{\\left(\\theta_{1} \\right)}\\\\\\cos{\\left(\\theta_{1} \\right)} & 0 & - \\sin{\\left(\\theta_{1} \\right)} & \\left(- d_{3} - d_{4}\\right) \\sin{\\left(\\theta_{1} \\right)}\\\\0 & -1 & 0 & d_{2}\\\\0 & 0 & 0 & 1\\end{matrix}\\right]$"
     },
     "metadata": {},
     "output_type": "display_data"
    }
   ],
   "execution_count": 8
  },
  {
   "metadata": {},
   "cell_type": "code",
   "outputs": [],
   "execution_count": null,
   "source": "",
   "id": "95ffd123a369804f"
  }
 ],
 "metadata": {
  "kernelspec": {
   "display_name": "Python 3",
   "language": "python",
   "name": "python3"
  },
  "language_info": {
   "codemirror_mode": {
    "name": "ipython",
    "version": 2
   },
   "file_extension": ".py",
   "mimetype": "text/x-python",
   "name": "python",
   "nbconvert_exporter": "python",
   "pygments_lexer": "ipython2",
   "version": "2.7.6"
  }
 },
 "nbformat": 4,
 "nbformat_minor": 5
}
